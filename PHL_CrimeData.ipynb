{
 "cells": [
  {
   "cell_type": "code",
   "execution_count": 8,
   "metadata": {},
   "outputs": [],
   "source": [
    "import pandas as pd\n",
    "import numpy as np\n",
    "import datetime\n",
    "from datetime import datetime\n",
    "import datetime as dt\n",
    "import random\n",
    "\n",
    "import folium\n",
    "from folium import plugins\n",
    "import ipywidgets\n",
    "import geocoder\n",
    "import geopy"
   ]
  },
  {
   "cell_type": "code",
   "execution_count": 9,
   "metadata": {},
   "outputs": [],
   "source": [
    "df = pd.read_csv(\"crime.csv\")"
   ]
  },
  {
   "cell_type": "code",
   "execution_count": 10,
   "metadata": {},
   "outputs": [],
   "source": [
    "df.dropna(subset = [\"Lon\"], inplace=True)\n",
    "df.dropna(subset = [\"Lat\"], inplace=True)\n",
    "df['Dispatch_Date'] = pd.to_datetime(df['Dispatch_Date'], errors='coerce')\n",
    "include = df[(df.Dispatch_Date.dt.year == 2016) & (df.Dispatch_Date.dt.month == 5)]"
   ]
  },
  {
   "cell_type": "code",
   "execution_count": 11,
   "metadata": {},
   "outputs": [
    {
     "data": {
      "text/html": [
       "<div>\n",
       "<style scoped>\n",
       "    .dataframe tbody tr th:only-of-type {\n",
       "        vertical-align: middle;\n",
       "    }\n",
       "\n",
       "    .dataframe tbody tr th {\n",
       "        vertical-align: top;\n",
       "    }\n",
       "\n",
       "    .dataframe thead th {\n",
       "        text-align: right;\n",
       "    }\n",
       "</style>\n",
       "<table border=\"1\" class=\"dataframe\">\n",
       "  <thead>\n",
       "    <tr style=\"text-align: right;\">\n",
       "      <th></th>\n",
       "      <th>Lat</th>\n",
       "      <th>Lon</th>\n",
       "      <th>Text_General_Code</th>\n",
       "      <th>cnt</th>\n",
       "    </tr>\n",
       "  </thead>\n",
       "  <tbody>\n",
       "    <tr>\n",
       "      <th>8857</th>\n",
       "      <td>40.022416</td>\n",
       "      <td>-75.078182</td>\n",
       "      <td>All Other Offenses</td>\n",
       "      <td>53</td>\n",
       "    </tr>\n",
       "    <tr>\n",
       "      <th>3387</th>\n",
       "      <td>39.960800</td>\n",
       "      <td>-75.224767</td>\n",
       "      <td>All Other Offenses</td>\n",
       "      <td>42</td>\n",
       "    </tr>\n",
       "    <tr>\n",
       "      <th>9438</th>\n",
       "      <td>40.028490</td>\n",
       "      <td>-75.099584</td>\n",
       "      <td>Thefts</td>\n",
       "      <td>31</td>\n",
       "    </tr>\n",
       "    <tr>\n",
       "      <th>10441</th>\n",
       "      <td>40.039082</td>\n",
       "      <td>-75.144752</td>\n",
       "      <td>Fraud</td>\n",
       "      <td>23</td>\n",
       "    </tr>\n",
       "    <tr>\n",
       "      <th>6777</th>\n",
       "      <td>39.995882</td>\n",
       "      <td>-75.132840</td>\n",
       "      <td>All Other Offenses</td>\n",
       "      <td>21</td>\n",
       "    </tr>\n",
       "  </tbody>\n",
       "</table>\n",
       "</div>"
      ],
      "text/plain": [
       "             Lat        Lon   Text_General_Code  cnt\n",
       "8857   40.022416 -75.078182  All Other Offenses   53\n",
       "3387   39.960800 -75.224767  All Other Offenses   42\n",
       "9438   40.028490 -75.099584              Thefts   31\n",
       "10441  40.039082 -75.144752               Fraud   23\n",
       "6777   39.995882 -75.132840  All Other Offenses   21"
      ]
     },
     "execution_count": 11,
     "metadata": {},
     "output_type": "execute_result"
    }
   ],
   "source": [
    "location=include.groupby(['Lat','Lon','Text_General_Code']).size().reset_index(name='cnt').sort_values(by='cnt',ascending=False)\n",
    "location.sort_values('cnt')\n",
    "location.head()"
   ]
  },
  {
   "cell_type": "code",
   "execution_count": 12,
   "metadata": {},
   "outputs": [],
   "source": [
    "\n",
    "location['color']=location['cnt'].apply(lambda count:\"black\" if count==53 else\n",
    "                                        \"grey\" if count==42 else\n",
    "                                        \"red\" if count==31 else\n",
    "                                        \"blue\" if count==23 else\n",
    "                                        \"indianred\" if count==21 else\n",
    "                                        \"red\" if count==20 else\n",
    "                                        \"deeppink\" if count==17 else\n",
    "                                        \"purple\" if count==16 else\n",
    "                                        \"darkviolet\" if count==15 else\n",
    "                                        \"slateblue\" if count==14 else\n",
    "                                        \"green\" if count==13 else\n",
    "                                        \"darkcyan\" if count==12 else\n",
    "                                        \"aqua\" if count==11 else\n",
    "                                        \"dodgerblue\" if count==10 else\n",
    "                                        \"darkorange\" if count==9 else\n",
    "                                        \"orange\" if count==8 else\n",
    "                                        \"forestgreen\" if count==7 else\n",
    "                                        \"limegreen\" if count==6 else\n",
    "                                        \"rawgreen\" if count==5 else\n",
    "                                        \"lightgreen\" if count==4 else\n",
    "                                        \"violet\" if count==3 else\n",
    "                                        \"green\" if count==2 else\n",
    "                                         \"red\")\n",
    "\n",
    "location['size']=location['cnt'].apply(lambda count:22 if count==53 else\n",
    "                                        21 if count==42 else\n",
    "                                        19 if count==31 else\n",
    "                                        17 if count==23 else\n",
    "                                        16 if count==21 else\n",
    "                                        16 if count==20 else\n",
    "                                        14 if count==17 else\n",
    "                                        13 if count==16 else\n",
    "                                        12 if count==15 else\n",
    "                                        12 if count==14 else\n",
    "                                        10 if count==13 else\n",
    "                                        10 if count==12 else\n",
    "                                        10 if count==11 else\n",
    "                                        9 if count==10 else\n",
    "                                        9 if count==9 else\n",
    "                                        9 if count==8 else\n",
    "                                        8 if count==7 else\n",
    "                                        6 if count==6 else\n",
    "                                        5 if count==5 else\n",
    "                                        4 if count==4 else\n",
    "                                        3 if count==3 else\n",
    "                                        2 if count==2 else\n",
    "                                        1)"
   ]
  },
  {
   "cell_type": "code",
   "execution_count": 13,
   "metadata": {},
   "outputs": [],
   "source": [
    "m=folium.Map([39.9527237,-75.1635262],zoom_start=12)\n",
    "#location=location[0:2000]\n",
    "for lat,lon,code,color,count,size in zip(location['Lat'],location['Lon'],location['Text_General_Code'],location['color'],location['cnt'],location['size']):\n",
    "    #,ddate,dtime,blk,addr \n",
    "    #,location['Dispatch_Date'],location['Dispatch_Time'],location['Location_Block'],location['Police_Districts']\n",
    "    my_string = '{}'.format(code)\n",
    "    folium.CircleMarker([lat, lon],\n",
    "                            popup=my_string,\n",
    "                            radius=size,\n",
    "                            color='b',\n",
    "                            fill=True,\n",
    "                            fill_opacity=0.7,\n",
    "                            fill_color=color,\n",
    "                           ).add_to(m)\n",
    "\n",
    "m.save('PHL_map.html')\n"
   ]
  },
  {
   "cell_type": "code",
   "execution_count": 14,
   "metadata": {},
   "outputs": [],
   "source": [
    "location_data = location[['Lat', 'Lon']].values\n",
    "\n",
    "# plot heatmap\n",
    "m.add_child(plugins.HeatMap(location_data, radius=15))\n",
    "m.save('PHL_heatmap.html')"
   ]
  },
  {
   "cell_type": "code",
   "execution_count": null,
   "metadata": {},
   "outputs": [],
   "source": []
  }
 ],
 "metadata": {
  "kernelspec": {
   "display_name": "Python 3",
   "language": "python",
   "name": "python3"
  },
  "language_info": {
   "codemirror_mode": {
    "name": "ipython",
    "version": 3
   },
   "file_extension": ".py",
   "mimetype": "text/x-python",
   "name": "python",
   "nbconvert_exporter": "python",
   "pygments_lexer": "ipython3",
   "version": "3.7.6"
  }
 },
 "nbformat": 4,
 "nbformat_minor": 4
}
