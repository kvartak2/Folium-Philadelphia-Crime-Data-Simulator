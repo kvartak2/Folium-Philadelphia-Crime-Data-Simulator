{
 "cells": [
  {
   "cell_type": "code",
   "execution_count": 37,
   "metadata": {},
   "outputs": [],
   "source": [
    "import pandas as pd\n",
    "import numpy as np\n",
    "import datetime\n",
    "from datetime import datetime\n",
    "import datetime as dt\n",
    "import random\n",
    "\n",
    "import folium\n",
    "from folium import plugins\n",
    "import ipywidgets\n",
    "import geocoder\n",
    "import geopy\n",
    "from folium.plugins import MarkerCluster"
   ]
  },
  {
   "cell_type": "code",
   "execution_count": 38,
   "metadata": {},
   "outputs": [],
   "source": [
    "df = pd.read_csv(\"crime.csv\")"
   ]
  },
  {
   "cell_type": "code",
   "execution_count": 39,
   "metadata": {},
   "outputs": [],
   "source": [
    "df.dropna(subset = [\"Lon\"], inplace=True)\n",
    "df.dropna(subset = [\"Lat\"], inplace=True)\n",
    "df['Dispatch_Date'] = pd.to_datetime(df['Dispatch_Date'], errors='coerce')\n",
    "include = df[(df.Dispatch_Date.dt.year == 2016) & (df.Dispatch_Date.dt.month == 5)]"
   ]
  },
  {
   "cell_type": "code",
   "execution_count": 40,
   "metadata": {
    "scrolled": true
   },
   "outputs": [
    {
     "data": {
      "text/html": [
       "<div>\n",
       "<style scoped>\n",
       "    .dataframe tbody tr th:only-of-type {\n",
       "        vertical-align: middle;\n",
       "    }\n",
       "\n",
       "    .dataframe tbody tr th {\n",
       "        vertical-align: top;\n",
       "    }\n",
       "\n",
       "    .dataframe thead th {\n",
       "        text-align: right;\n",
       "    }\n",
       "</style>\n",
       "<table border=\"1\" class=\"dataframe\">\n",
       "  <thead>\n",
       "    <tr style=\"text-align: right;\">\n",
       "      <th></th>\n",
       "      <th>Lat</th>\n",
       "      <th>Lon</th>\n",
       "      <th>Text_General_Code</th>\n",
       "      <th>Dispatch_Date_Time</th>\n",
       "      <th>cnt</th>\n",
       "    </tr>\n",
       "  </thead>\n",
       "  <tbody>\n",
       "    <tr>\n",
       "      <th>1130</th>\n",
       "      <td>39.929130</td>\n",
       "      <td>-75.187370</td>\n",
       "      <td>All Other Offenses</td>\n",
       "      <td>2016-05-28 21:55:00</td>\n",
       "      <td>6</td>\n",
       "    </tr>\n",
       "    <tr>\n",
       "      <th>12551</th>\n",
       "      <td>40.042713</td>\n",
       "      <td>-75.076549</td>\n",
       "      <td>All Other Offenses</td>\n",
       "      <td>2016-05-30 23:21:00</td>\n",
       "      <td>6</td>\n",
       "    </tr>\n",
       "    <tr>\n",
       "      <th>13661</th>\n",
       "      <td>40.058137</td>\n",
       "      <td>-75.059722</td>\n",
       "      <td>All Other Offenses</td>\n",
       "      <td>2016-05-06 22:23:00</td>\n",
       "      <td>6</td>\n",
       "    </tr>\n",
       "    <tr>\n",
       "      <th>10307</th>\n",
       "      <td>40.022416</td>\n",
       "      <td>-75.078182</td>\n",
       "      <td>All Other Offenses</td>\n",
       "      <td>2016-05-20 23:40:00</td>\n",
       "      <td>5</td>\n",
       "    </tr>\n",
       "    <tr>\n",
       "      <th>6796</th>\n",
       "      <td>39.988728</td>\n",
       "      <td>-75.187106</td>\n",
       "      <td>DRIVING UNDER THE INFLUENCE</td>\n",
       "      <td>2016-05-20 21:54:00</td>\n",
       "      <td>5</td>\n",
       "    </tr>\n",
       "  </tbody>\n",
       "</table>\n",
       "</div>"
      ],
      "text/plain": [
       "             Lat        Lon            Text_General_Code   Dispatch_Date_Time  \\\n",
       "1130   39.929130 -75.187370           All Other Offenses  2016-05-28 21:55:00   \n",
       "12551  40.042713 -75.076549           All Other Offenses  2016-05-30 23:21:00   \n",
       "13661  40.058137 -75.059722           All Other Offenses  2016-05-06 22:23:00   \n",
       "10307  40.022416 -75.078182           All Other Offenses  2016-05-20 23:40:00   \n",
       "6796   39.988728 -75.187106  DRIVING UNDER THE INFLUENCE  2016-05-20 21:54:00   \n",
       "\n",
       "       cnt  \n",
       "1130     6  \n",
       "12551    6  \n",
       "13661    6  \n",
       "10307    5  \n",
       "6796     5  "
      ]
     },
     "execution_count": 40,
     "metadata": {},
     "output_type": "execute_result"
    }
   ],
   "source": [
    "#location=include.groupby(['Lat','Lon','Text_General_Code']).size().reset_index(name='cnt').sort_values(by='cnt',ascending=False)\n",
    "location=include.groupby(['Lat','Lon','Text_General_Code','Dispatch_Date_Time']).size().reset_index(name='cnt').sort_values(by='cnt',ascending=False)\n",
    "location.sort_values('cnt')\n",
    "location.head()"
   ]
  },
  {
   "cell_type": "code",
   "execution_count": 41,
   "metadata": {},
   "outputs": [],
   "source": [
    "\n",
    "location['color']=location['cnt'].apply(lambda count:\"black\" if count==53 else\n",
    "                                        \"grey\" if count==42 else\n",
    "                                        \"red\" if count==31 else\n",
    "                                        \"violet\" if count==23 else\n",
    "                                        \"indianred\" if count==21 else\n",
    "                                        \"red\" if count==20 else\n",
    "                                        \"deeppink\" if count==17 else\n",
    "                                        \"purple\" if count==16 else\n",
    "                                        \"darkviolet\" if count==15 else\n",
    "                                        \"slateblue\" if count==14 else\n",
    "                                        \"green\" if count==13 else\n",
    "                                        \"lightgreen\" if count==12 else\n",
    "                                        \"aqua\" if count==11 else\n",
    "                                        \"dodgerblue\" if count==10 else\n",
    "                                        \"darkorange\" if count==9 else\n",
    "                                        \"orange\" if count==8 else\n",
    "                                        \"forestgreen\" if count==7 else\n",
    "                                        \"limegreen\" if count==6 else\n",
    "                                        \"rawgreen\" if count==5 else\n",
    "                                        \"darkcyan\" if count==4 else\n",
    "                                        \"blue\" if count==3 else\n",
    "                                        \"red\" if count==2 else\n",
    "                                         \"green\")\n",
    "\n",
    "location['size']=location['cnt'].apply(lambda count:22 if count==53 else\n",
    "                                        21 if count==42 else\n",
    "                                        19 if count==31 else\n",
    "                                        17 if count==23 else\n",
    "                                        16 if count==21 else\n",
    "                                        16 if count==20 else\n",
    "                                        14 if count==17 else\n",
    "                                        13 if count==16 else\n",
    "                                        12 if count==15 else\n",
    "                                        12 if count==14 else\n",
    "                                        10 if count==13 else\n",
    "                                        10 if count==12 else\n",
    "                                        10 if count==11 else\n",
    "                                        9 if count==10 else\n",
    "                                        9 if count==9 else\n",
    "                                        9 if count==8 else\n",
    "                                        8 if count==7 else\n",
    "                                        6 if count==6 else\n",
    "                                        5 if count==5 else\n",
    "                                        4 if count==4 else\n",
    "                                        3 if count==3 else\n",
    "                                        3 if count==2 else\n",
    "                                        0.7)\n",
    "\n"
   ]
  },
  {
   "cell_type": "code",
   "execution_count": 47,
   "metadata": {},
   "outputs": [],
   "source": [
    "m=folium.Map([39.9527237,-75.1635262],zoom_start=11)\n",
    "for lat,lon,code,color,count,size in zip(location['Lat'],location['Lon'],location['Text_General_Code'],location['color'],location['cnt'],location['size']):\n",
    "    folium.CircleMarker([lat, lon],\n",
    "                            popup=\"Type\"+code,\n",
    "                            radius=size,\n",
    "                            color='b',\n",
    "                            fill=True,\n",
    "                            fill_opacity=0.7,\n",
    "                            fill_color=color,\n",
    "                           ).add_to(m)\n",
    "\n",
    "m.save('PHL_map.html')"
   ]
  },
  {
   "cell_type": "code",
   "execution_count": 48,
   "metadata": {},
   "outputs": [],
   "source": [
    "location_data = location[['Lat', 'Lon']].values\n",
    "\n",
    "# plot heatmap\n",
    "m.add_child(plugins.HeatMap(location_data, radius=15))\n",
    "m.save('PHL_heatmap.html')"
   ]
  },
  {
   "cell_type": "code",
   "execution_count": 50,
   "metadata": {},
   "outputs": [],
   "source": [
    "location_df=location\n",
    "\n",
    "some_map_2 = folium.Map(location=[location_df['Lat'].mean(),location_df['Lon'].mean()],zoom_start=10)\n",
    "\n",
    "mc = MarkerCluster()\n",
    "\n",
    "for row in location_df.itertuples():\n",
    "    my_string = \"Type : \"+row.Text_General_Code\n",
    "    mc.add_child(folium.Marker(location=[row.Lat,row.Lon],popup=my_string))\n",
    "\n",
    "some_map_2.add_child(mc)\n",
    "some_map_2.save('PHLMasterCluster.html')"
   ]
  },
  {
   "cell_type": "code",
   "execution_count": null,
   "metadata": {},
   "outputs": [],
   "source": []
  }
 ],
 "metadata": {
  "kernelspec": {
   "display_name": "Python 3",
   "language": "python",
   "name": "python3"
  },
  "language_info": {
   "codemirror_mode": {
    "name": "ipython",
    "version": 3
   },
   "file_extension": ".py",
   "mimetype": "text/x-python",
   "name": "python",
   "nbconvert_exporter": "python",
   "pygments_lexer": "ipython3",
   "version": "3.7.6"
  }
 },
 "nbformat": 4,
 "nbformat_minor": 4
}
