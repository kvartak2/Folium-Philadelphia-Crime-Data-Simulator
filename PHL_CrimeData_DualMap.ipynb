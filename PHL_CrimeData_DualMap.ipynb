{
 "cells": [
  {
   "cell_type": "code",
   "execution_count": 57,
   "metadata": {},
   "outputs": [],
   "source": [
    "import pandas as pd\n",
    "import numpy as np\n",
    "import datetime\n",
    "from datetime import datetime\n",
    "import datetime as dt\n",
    "import random\n",
    "\n",
    "import folium\n",
    "from folium import plugins\n",
    "import ipywidgets\n",
    "import geocoder\n",
    "import geopy\n",
    "from folium.plugins import MarkerCluster"
   ]
  },
  {
   "cell_type": "code",
   "execution_count": 58,
   "metadata": {},
   "outputs": [],
   "source": [
    "df = pd.read_csv(\"crime.csv\")"
   ]
  },
  {
   "cell_type": "code",
   "execution_count": 90,
   "metadata": {
    "scrolled": true
   },
   "outputs": [
    {
     "data": {
      "text/plain": [
       "(15265, 14)"
      ]
     },
     "execution_count": 90,
     "metadata": {},
     "output_type": "execute_result"
    }
   ],
   "source": [
    "df.dropna(subset = [\"Lon\"], inplace=True)\n",
    "df.dropna(subset = [\"Lat\"], inplace=True)\n",
    "df['Dispatch_Date'] = pd.to_datetime(df['Dispatch_Date'], errors='coerce')\n",
    "include = df[(df.Dispatch_Date.dt.year == 2016) & (df.Dispatch_Date.dt.month == 5)]"
   ]
  },
  {
   "cell_type": "code",
   "execution_count": 92,
   "metadata": {},
   "outputs": [
    {
     "name": "stderr",
     "output_type": "stream",
     "text": [
      "/Users/kasturivartak/opt/anaconda3/lib/python3.7/site-packages/ipykernel_launcher.py:1: SettingWithCopyWarning: \n",
      "A value is trying to be set on a copy of a slice from a DataFrame.\n",
      "Try using .loc[row_indexer,col_indexer] = value instead\n",
      "\n",
      "See the caveats in the documentation: https://pandas.pydata.org/pandas-docs/stable/user_guide/indexing.html#returning-a-view-versus-a-copy\n",
      "  \"\"\"Entry point for launching an IPython kernel.\n"
     ]
    },
    {
     "data": {
      "text/plain": [
       "(2126, 15)"
      ]
     },
     "execution_count": 92,
     "metadata": {},
     "output_type": "execute_result"
    }
   ],
   "source": [
    "include['day_of_week'] = include['Dispatch_Date'].dt.dayofweek\n",
    "\n",
    "data_weekdays = include.loc[include['day_of_week'] <= 5 ]\n",
    "data_weekends = include.loc[include['day_of_week'] > 5 ]"
   ]
  },
  {
   "cell_type": "code",
   "execution_count": 94,
   "metadata": {
    "scrolled": true
   },
   "outputs": [],
   "source": [
    "#location=include.groupby(['Lat','Lon','Text_General_Code']).size().reset_index(name='cnt').sort_values(by='cnt',ascending=False)\n",
    "location_weekdays=data_weekdays.groupby(['Lat','Lon','Text_General_Code','Dispatch_Date_Time']).size().reset_index(name='cnt').sort_values(by='cnt',ascending=False)\n",
    "location_weekdays=location_weekdays.sort_values('cnt')\n",
    "\n",
    "location_weekends=data_weekends.groupby(['Lat','Lon','Text_General_Code','Dispatch_Date_Time']).size().reset_index(name='cnt').sort_values(by='cnt',ascending=False)\n",
    "location_weekends=location_weekends.sort_values('cnt')\n"
   ]
  },
  {
   "cell_type": "code",
   "execution_count": 96,
   "metadata": {},
   "outputs": [],
   "source": [
    "location_weekends['color']=location_weekdays['color']=location_weekdays['cnt'].apply(lambda count:\"black\" if count==53 else\n",
    "                                        \"grey\" if count==42 else\n",
    "                                        \"red\" if count==31 else\n",
    "                                        \"violet\" if count==23 else\n",
    "                                        \"indianred\" if count==21 else\n",
    "                                        \"red\" if count==20 else\n",
    "                                        \"deeppink\" if count==17 else\n",
    "                                        \"purple\" if count==16 else\n",
    "                                        \"darkviolet\" if count==15 else\n",
    "                                        \"slateblue\" if count==14 else\n",
    "                                        \"green\" if count==13 else\n",
    "                                        \"lightgreen\" if count==12 else\n",
    "                                        \"aqua\" if count==11 else\n",
    "                                        \"dodgerblue\" if count==10 else\n",
    "                                        \"darkorange\" if count==9 else\n",
    "                                        \"orange\" if count==8 else\n",
    "                                        \"forestgreen\" if count==7 else\n",
    "                                        \"limegreen\" if count==6 else\n",
    "                                        \"rawgreen\" if count==5 else\n",
    "                                        \"darkcyan\" if count==4 else\n",
    "                                        \"blue\" if count==3 else\n",
    "                                        \"red\" if count==2 else\n",
    "                                         \"green\")\n",
    "\n",
    "location_weekends['size']=location_weekdays['size']=location_weekdays['cnt'].apply(lambda count:22 if count==53 else\n",
    "                                        21 if count==42 else\n",
    "                                        19 if count==31 else\n",
    "                                        17 if count==23 else\n",
    "                                        16 if count==21 else\n",
    "                                        16 if count==20 else\n",
    "                                        14 if count==17 else\n",
    "                                        13 if count==16 else\n",
    "                                        12 if count==15 else\n",
    "                                        12 if count==14 else\n",
    "                                        10 if count==13 else\n",
    "                                        10 if count==12 else\n",
    "                                        10 if count==11 else\n",
    "                                        9 if count==10 else\n",
    "                                        9 if count==9 else\n",
    "                                        9 if count==8 else\n",
    "                                        8 if count==7 else\n",
    "                                        6 if count==6 else\n",
    "                                        5 if count==5 else\n",
    "                                        4 if count==4 else\n",
    "                                        3 if count==3 else\n",
    "                                        3 if count==2 else\n",
    "                                        0.7)"
   ]
  },
  {
   "cell_type": "code",
   "execution_count": 97,
   "metadata": {},
   "outputs": [],
   "source": [
    "m = folium.plugins.DualMap(location=(39.9527237,-75.1635262), tiles=None, zoom_start=11)\n",
    "folium.TileLayer('openstreetmap').add_to(m.m1)\n",
    "folium.TileLayer('openstreetmap').add_to(m.m2)\n",
    "for lat,lon,code,color,count,size in zip(location_weekdays['Lat'],location_weekdays['Lon'],location_weekdays['Text_General_Code'],location_weekdays['color'],location_weekdays['cnt'],location_weekdays['size']):\n",
    "            folium.CircleMarker([lat, lon],\n",
    "                            popup=\"Type\"+code,\n",
    "                            radius=size,\n",
    "                            color='b',\n",
    "                            fill=True,\n",
    "                            fill_opacity=0.7,\n",
    "                            fill_color=color,\n",
    "                           ).add_to(m.m1)\n",
    "        \n",
    "for lat,lon,code,color,count,size in zip(location_weekends['Lat'],location_weekends['Lon'],location_weekends['Text_General_Code'],location_weekends['color'],location_weekends['cnt'],location_weekends['size']):\n",
    "            folium.CircleMarker([lat, lon],\n",
    "                            popup=\"Type\"+code,\n",
    "                            radius=size,\n",
    "                            color='b',\n",
    "                            fill=True,\n",
    "                            fill_opacity=0.7,\n",
    "                            fill_color=color,\n",
    "                           ).add_to(m.m2)\n",
    "    \n",
    "m.save('PHL_compare_map.html')"
   ]
  },
  {
   "cell_type": "code",
   "execution_count": null,
   "metadata": {},
   "outputs": [],
   "source": []
  }
 ],
 "metadata": {
  "kernelspec": {
   "display_name": "Python 3",
   "language": "python",
   "name": "python3"
  },
  "language_info": {
   "codemirror_mode": {
    "name": "ipython",
    "version": 3
   },
   "file_extension": ".py",
   "mimetype": "text/x-python",
   "name": "python",
   "nbconvert_exporter": "python",
   "pygments_lexer": "ipython3",
   "version": "3.7.6"
  }
 },
 "nbformat": 4,
 "nbformat_minor": 4
}
